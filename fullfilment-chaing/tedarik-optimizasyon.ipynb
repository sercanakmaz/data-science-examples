{
 "cells": [
  {
   "cell_type": "code",
   "execution_count": 1,
   "metadata": {},
   "outputs": [],
   "source": [
    "from pyomo.environ import *"
   ]
  },
  {
   "cell_type": "code",
   "execution_count": 2,
   "metadata": {},
   "outputs": [],
   "source": [
    "A = [\"LS\",\"SB\"]\n",
    "profit = {\"LS\":24,\"SB\":40}\n",
    "\n",
    "compA = {\"LS\":18,\"SB\":12}\n",
    "compB = {\"LS\":6,\"SB\":10}"
   ]
  },
  {
   "cell_type": "code",
   "execution_count": 7,
   "metadata": {},
   "outputs": [
    {
     "ename": "KeyError",
     "evalue": "'T'",
     "output_type": "error",
     "traceback": [
      "\u001b[0;31m---------------------------------------------------------------------------\u001b[0m",
      "\u001b[0;31mKeyError\u001b[0m                                  Traceback (most recent call last)",
      "\u001b[0;32m<ipython-input-7-85bf9e6c2d0e>\u001b[0m in \u001b[0;36m<module>\u001b[0;34m\u001b[0m\n\u001b[1;32m      9\u001b[0m \u001b[0;34m\u001b[0m\u001b[0m\n\u001b[1;32m     10\u001b[0m model.comp_a = Constraint(\n\u001b[0;32m---> 11\u001b[0;31m     \u001b[0mexpr\u001b[0m \u001b[0;34m=\u001b[0m \u001b[0msum\u001b[0m\u001b[0;34m(\u001b[0m\u001b[0mmodel\u001b[0m\u001b[0;34m.\u001b[0m\u001b[0mx\u001b[0m\u001b[0;34m[\u001b[0m\u001b[0mi\u001b[0m\u001b[0;34m]\u001b[0m \u001b[0;34m*\u001b[0m \u001b[0mcostR\u001b[0m\u001b[0;34m[\u001b[0m\u001b[0mi\u001b[0m\u001b[0;34m]\u001b[0m \u001b[0;32mfor\u001b[0m \u001b[0mi\u001b[0m \u001b[0;32min\u001b[0m \u001b[0mB\u001b[0m\u001b[0;34m)\u001b[0m \u001b[0;34m<=\u001b[0m \u001b[0;36m4000\u001b[0m\u001b[0;34m\u001b[0m\u001b[0;34m\u001b[0m\u001b[0m\n\u001b[0m\u001b[1;32m     12\u001b[0m )\n\u001b[1;32m     13\u001b[0m \u001b[0;34m\u001b[0m\u001b[0m\n",
      "\u001b[0;32m<ipython-input-7-85bf9e6c2d0e>\u001b[0m in \u001b[0;36m<genexpr>\u001b[0;34m(.0)\u001b[0m\n\u001b[1;32m      9\u001b[0m \u001b[0;34m\u001b[0m\u001b[0m\n\u001b[1;32m     10\u001b[0m model.comp_a = Constraint(\n\u001b[0;32m---> 11\u001b[0;31m     \u001b[0mexpr\u001b[0m \u001b[0;34m=\u001b[0m \u001b[0msum\u001b[0m\u001b[0;34m(\u001b[0m\u001b[0mmodel\u001b[0m\u001b[0;34m.\u001b[0m\u001b[0mx\u001b[0m\u001b[0;34m[\u001b[0m\u001b[0mi\u001b[0m\u001b[0;34m]\u001b[0m \u001b[0;34m*\u001b[0m \u001b[0mcostR\u001b[0m\u001b[0;34m[\u001b[0m\u001b[0mi\u001b[0m\u001b[0;34m]\u001b[0m \u001b[0;32mfor\u001b[0m \u001b[0mi\u001b[0m \u001b[0;32min\u001b[0m \u001b[0mB\u001b[0m\u001b[0;34m)\u001b[0m \u001b[0;34m<=\u001b[0m \u001b[0;36m4000\u001b[0m\u001b[0;34m\u001b[0m\u001b[0;34m\u001b[0m\u001b[0m\n\u001b[0m\u001b[1;32m     12\u001b[0m )\n\u001b[1;32m     13\u001b[0m \u001b[0;34m\u001b[0m\u001b[0m\n",
      "\u001b[0;31mKeyError\u001b[0m: 'T'"
     ]
    }
   ],
   "source": [
    "model = ConcreteModel()\n",
    "\n",
    "model.x = Var(A, bounds = (0,None), within = IntegerSet)\n",
    "\n",
    "model.obj_value = Objective(\n",
    "    expr = sum(model.x[i] * profit[i] for i in A),\n",
    "    sense = maximize\n",
    ")\n",
    "\n",
    "model.comp_a = Constraint(\n",
    "    expr = sum(model.x[i] * compA[i] for i in A) <= 4000\n",
    ")\n",
    "\n",
    "model.comp_b = Constraint(\n",
    "    expr = sum(model.x[i] * compB[i] for i in A) <= 3500\n",
    ")\n",
    "\n",
    "opt = SolverFactory(\"glpk\")\n",
    "result_obj = opt.solve(model)\n",
    "\n",
    "model.pprint()"
   ]
  },
  {
   "cell_type": "code",
   "execution_count": 8,
   "metadata": {},
   "outputs": [],
   "source": [
    "A = [\"R\",\"TV\"]\n",
    "expo = {\"R\":350, \"TV\":800}\n",
    "budget = {\"R\":400,\"TV\":2000}\n",
    "man = {\"R\":0.7,\"TV\":-0.3}"
   ]
  },
  {
   "cell_type": "code",
   "execution_count": 9,
   "metadata": {},
   "outputs": [
    {
     "name": "stdout",
     "output_type": "stream",
     "text": [
      "1 Set Declarations\n",
      "    x_index : Dim=0, Dimen=1, Size=2, Domain=None, Ordered=False, Bounds=None\n",
      "        ['R', 'TV']\n",
      "\n",
      "1 Var Declarations\n",
      "    x : Size=2, Index=x_index\n",
      "        Key : Lower : Value            : Upper : Fixed : Stale : Domain\n",
      "          R :     0 : 4.93421052631579 :  None : False : False : NonNegativeReals\n",
      "         TV :     0 : 11.5131578947368 :  None : False : False : NonNegativeReals\n",
      "\n",
      "1 Objective Declarations\n",
      "    obj_value : Size=1, Index=None, Active=True\n",
      "        Key  : Active : Sense    : Expression\n",
      "        None :   True : maximize : 350*x[R] + 800*x[TV]\n",
      "\n",
      "2 Constraint Declarations\n",
      "    b : Size=1, Index=None, Active=True\n",
      "        Key  : Lower : Body                  : Upper   : Active\n",
      "        None :  -Inf : 400*x[R] + 2000*x[TV] : 25000.0 :   True\n",
      "    m : Size=1, Index=None, Active=True\n",
      "        Key  : Lower : Body                 : Upper : Active\n",
      "        None :  -Inf : 0.7*x[R] - 0.3*x[TV] :   0.0 :   True\n",
      "\n",
      "5 Declarations: x_index x obj_value b m\n"
     ]
    }
   ],
   "source": [
    "model = ConcreteModel()\n",
    "\n",
    "model.x = Var(A, within = NonNegativeReals)\n",
    "\n",
    "model.obj_value = Objective(\n",
    "    expr = sum(model.x[i] * expo[i] for i in A),\n",
    "    sense = maximize\n",
    ")\n",
    "\n",
    "model.b = Constraint(\n",
    "    expr = sum(model.x[i] * budget[i] for i in A) <= 25000\n",
    ")\n",
    "\n",
    "model.m = Constraint(\n",
    "    expr = sum(model.x[i] * man[i] for i in A) <= 0\n",
    ")\n",
    "\n",
    "opt = SolverFactory(\"glpk\")\n",
    "result_obj = opt.solve(model)\n",
    "\n",
    "model.pprint()"
   ]
  },
  {
   "cell_type": "code",
   "execution_count": 11,
   "metadata": {},
   "outputs": [
    {
     "name": "stdout",
     "output_type": "stream",
     "text": [
      "1 Set Declarations\n",
      "    x_index : Dim=0, Dimen=1, Size=4, Domain=None, Ordered=False, Bounds=None\n",
      "        ['hammer', 'screwdriver', 'towel', 'wrench']\n",
      "\n",
      "1 Var Declarations\n",
      "    x : Size=4, Index=x_index\n",
      "        Key         : Lower : Value : Upper : Fixed : Stale : Domain\n",
      "             hammer :     0 :   1.0 :     1 : False : False : Binary\n",
      "        screwdriver :     0 :   1.0 :     1 : False : False : Binary\n",
      "              towel :     0 :   0.0 :     1 : False : False : Binary\n",
      "             wrench :     0 :   0.0 :     1 : False : False : Binary\n",
      "\n",
      "1 Objective Declarations\n",
      "    obj_val : Size=1, Index=None, Active=True\n",
      "        Key  : Active : Sense    : Expression\n",
      "        None :   True : maximize : 8*x[hammer] + 3*x[wrench] + 6*x[screwdriver] + 11*x[towel]\n",
      "\n",
      "1 Constraint Declarations\n",
      "    weight : Size=1, Index=None, Active=True\n",
      "        Key  : Lower : Body                                                       : Upper : Active\n",
      "        None :  -Inf : 8*x[hammer] + 3*x[wrench] + 6*x[screwdriver] + 11*x[towel] :  14.0 :   True\n",
      "\n",
      "4 Declarations: x_index x obj_val weight\n"
     ]
    }
   ],
   "source": [
    "A = [\"hammer\",\"wrench\",\"screwdriver\",\"towel\"]\n",
    "b = {\"hammer\":8,\"wrench\":3,\"screwdriver\":6,\"towel\":11}\n",
    "w = {\"hammer\":5,\"wrench\":7,\"screwdriver\":4,\"towel\":3}\n",
    "\n",
    "model = ConcreteModel() \n",
    "model.x = Var(A,within=Binary)\n",
    "model.obj_val = Objective(\n",
    "    expr = sum(model.x[i] * b[i] for i in A),\n",
    "    sense=maximize\n",
    ")\n",
    "model.weight = Constraint(\n",
    "    expr = sum(model.x[i] * b[i] for i in A) <= 14\n",
    ")\n",
    "\n",
    "opt = SolverFactory(\"glpk\")\n",
    "result_obj = opt.solve(model)\n",
    "\n",
    "model.pprint()"
   ]
  },
  {
   "cell_type": "code",
   "execution_count": 12,
   "metadata": {},
   "outputs": [],
   "source": [
    "Demand = {\n",
    "   'Lon':   125,        # London\n",
    "   'Ber':   175,        # Berlin\n",
    "   'Maa':   225,        # Maastricht\n",
    "   'Ams':   250,        # Amsterdam\n",
    "   'Utr':   225,        # Utrecht\n",
    "   'Hag':   200         # The Hague\n",
    "}\n",
    "\n",
    "Supply = {\n",
    "   'Arn':   600,        # Arnhem\n",
    "   'Gou':   650         # Gouda\n",
    "}\n",
    "\n",
    "T = {\n",
    "    ('Lon','Arn'): 1000,\n",
    "    ('Lon','Gou'): 2.5,\n",
    "    ('Ber','Arn'): 2.5,\n",
    "    ('Ber','Gou'): 1000,\n",
    "    ('Maa','Arn'): 1.6,\n",
    "    ('Maa','Gou'): 2.0,\n",
    "    ('Ams','Arn'): 1.4,\n",
    "    ('Ams','Gou'): 1.0,\n",
    "    ('Utr','Arn'): 0.8,\n",
    "    ('Utr','Gou'): 1.0,\n",
    "    ('Hag','Arn'): 1.4,\n",
    "    ('Hag','Gou'): 0.8\n",
    "}"
   ]
  },
  {
   "cell_type": "code",
   "execution_count": 17,
   "metadata": {},
   "outputs": [],
   "source": [
    "d = list(Demand.keys())"
   ]
  },
  {
   "cell_type": "code",
   "execution_count": 18,
   "metadata": {},
   "outputs": [],
   "source": [
    "s = list(Supply.keys())"
   ]
  },
  {
   "cell_type": "code",
   "execution_count": 24,
   "metadata": {},
   "outputs": [],
   "source": [
    "model = ConcreteModel()\n",
    "\n",
    "model.x = Var(d,s,within=NonNegativeReals)\n",
    "model.obj_val = Objective(\n",
    "    expr = sum(model.x[i,j]*T[i,j] for i in d for j in s),\n",
    "    sense = minimize\n",
    ")\n",
    "model.capacity = ConstraintList()\n",
    "\n",
    "for item in s:\n",
    "    model.capacity.add(sum(model.x[i,item] for i in d)<=Supply[item])\n",
    "\n",
    "    \n",
    "model.supply=  ConstraintList()\n",
    "\n",
    "for item in d:\n",
    "    model.supply.add(sum(model.x[item,j] for j in s)>=Demand[item])"
   ]
  },
  {
   "cell_type": "code",
   "execution_count": 25,
   "metadata": {},
   "outputs": [
    {
     "name": "stdout",
     "output_type": "stream",
     "text": [
      "5 Set Declarations\n",
      "    capacity_index : Dim=0, Dimen=1, Size=2, Domain=None, Ordered=False, Bounds=None\n",
      "        [1, 2]\n",
      "    supply_index : Dim=0, Dimen=1, Size=6, Domain=None, Ordered=False, Bounds=None\n",
      "        [1, 2, 3, 4, 5, 6]\n",
      "    x_index : Dim=0, Dimen=2, Size=12, Domain=None, Ordered=False, Bounds=None\n",
      "        Virtual\n",
      "    x_index_0 : Dim=0, Dimen=1, Size=6, Domain=None, Ordered=False, Bounds=None\n",
      "        ['Ams', 'Ber', 'Hag', 'Lon', 'Maa', 'Utr']\n",
      "    x_index_1 : Dim=0, Dimen=1, Size=2, Domain=None, Ordered=False, Bounds=None\n",
      "        ['Arn', 'Gou']\n",
      "\n",
      "1 Var Declarations\n",
      "    x : Size=12, Index=x_index\n",
      "        Key            : Lower : Value : Upper : Fixed : Stale : Domain\n",
      "        ('Ams', 'Arn') :     0 :   0.0 :  None : False : False : NonNegativeReals\n",
      "        ('Ams', 'Gou') :     0 : 250.0 :  None : False : False : NonNegativeReals\n",
      "        ('Ber', 'Arn') :     0 : 175.0 :  None : False : False : NonNegativeReals\n",
      "        ('Ber', 'Gou') :     0 :   0.0 :  None : False : False : NonNegativeReals\n",
      "        ('Hag', 'Arn') :     0 :   0.0 :  None : False : False : NonNegativeReals\n",
      "        ('Hag', 'Gou') :     0 : 200.0 :  None : False : False : NonNegativeReals\n",
      "        ('Lon', 'Arn') :     0 :   0.0 :  None : False : False : NonNegativeReals\n",
      "        ('Lon', 'Gou') :     0 : 125.0 :  None : False : False : NonNegativeReals\n",
      "        ('Maa', 'Arn') :     0 : 225.0 :  None : False : False : NonNegativeReals\n",
      "        ('Maa', 'Gou') :     0 :   0.0 :  None : False : False : NonNegativeReals\n",
      "        ('Utr', 'Arn') :     0 : 200.0 :  None : False : False : NonNegativeReals\n",
      "        ('Utr', 'Gou') :     0 :  25.0 :  None : False : False : NonNegativeReals\n",
      "\n",
      "1 Objective Declarations\n",
      "    obj_val : Size=1, Index=None, Active=True\n",
      "        Key  : Active : Sense    : Expression\n",
      "        None :   True : minimize : 1000*x[Lon,Arn] + 2.5*x[Lon,Gou] + 2.5*x[Ber,Arn] + 1000*x[Ber,Gou] + 1.6*x[Maa,Arn] + 2.0*x[Maa,Gou] + 1.4*x[Ams,Arn] + x[Ams,Gou] + 0.8*x[Utr,Arn] + x[Utr,Gou] + 1.4*x[Hag,Arn] + 0.8*x[Hag,Gou]\n",
      "\n",
      "2 Constraint Declarations\n",
      "    capacity : Size=2, Index=capacity_index, Active=True\n",
      "        Key : Lower : Body                                                                        : Upper : Active\n",
      "          1 :  -Inf : x[Lon,Arn] + x[Ber,Arn] + x[Maa,Arn] + x[Ams,Arn] + x[Utr,Arn] + x[Hag,Arn] : 600.0 :   True\n",
      "          2 :  -Inf : x[Lon,Gou] + x[Ber,Gou] + x[Maa,Gou] + x[Ams,Gou] + x[Utr,Gou] + x[Hag,Gou] : 650.0 :   True\n",
      "    supply : Size=6, Index=supply_index, Active=True\n",
      "        Key : Lower : Body                    : Upper : Active\n",
      "          1 : 125.0 : x[Lon,Arn] + x[Lon,Gou] :  +Inf :   True\n",
      "          2 : 175.0 : x[Ber,Arn] + x[Ber,Gou] :  +Inf :   True\n",
      "          3 : 225.0 : x[Maa,Arn] + x[Maa,Gou] :  +Inf :   True\n",
      "          4 : 250.0 : x[Ams,Arn] + x[Ams,Gou] :  +Inf :   True\n",
      "          5 : 225.0 : x[Utr,Arn] + x[Utr,Gou] :  +Inf :   True\n",
      "          6 : 200.0 : x[Hag,Arn] + x[Hag,Gou] :  +Inf :   True\n",
      "\n",
      "9 Declarations: x_index_0 x_index_1 x_index x obj_val capacity_index capacity supply_index supply\n"
     ]
    }
   ],
   "source": [
    "opt = SolverFactory(\"glpk\")\n",
    "result_obj = opt.solve(model)\n",
    "\n",
    "model.pprint()"
   ]
  },
  {
   "cell_type": "code",
   "execution_count": null,
   "metadata": {},
   "outputs": [],
   "source": []
  }
 ],
 "metadata": {
  "kernelspec": {
   "display_name": "Python 3",
   "language": "python",
   "name": "python3"
  },
  "language_info": {
   "codemirror_mode": {
    "name": "ipython",
    "version": 3
   },
   "file_extension": ".py",
   "mimetype": "text/x-python",
   "name": "python",
   "nbconvert_exporter": "python",
   "pygments_lexer": "ipython3",
   "version": "3.7.4"
  }
 },
 "nbformat": 4,
 "nbformat_minor": 2
}
